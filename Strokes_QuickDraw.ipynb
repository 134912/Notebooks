{
  "nbformat": 4,
  "nbformat_minor": 0,
  "metadata": {
    "colab": {
      "name": "Strokes_QuickDraw.ipynb",
      "version": "0.3.2",
      "provenance": [],
      "collapsed_sections": [],
      "include_colab_link": true
    },
    "kernelspec": {
      "name": "python3",
      "display_name": "Python 3"
    },
    "accelerator": "GPU"
  },
  "cells": [
    {
      "cell_type": "markdown",
      "metadata": {
        "id": "view-in-github",
        "colab_type": "text"
      },
      "source": [
        "<a href=\"https://colab.research.google.com/github/zaidalyafeai/Notebooks/blob/master/Strokes_QuickDraw.ipynb\" target=\"_parent\"><img src=\"https://colab.research.google.com/assets/colab-badge.svg\" alt=\"Open In Colab\"/></a>"
      ]
    },
    {
      "metadata": {
        "id": "VRvAWhDx42vJ",
        "colab_type": "text"
      },
      "cell_type": "markdown",
      "source": [
        "# Introduction\n",
        "\n",
        "The Quick Draw Dataset is a collection of 50 million drawings across 345 categories, contributed by players of the game Quick Draw. \n",
        "\n",
        "![alt text](https://raw.githubusercontent.com/googlecreativelab/quickdraw-dataset/master/preview.jpg)"
      ]
    },
    {
      "metadata": {
        "id": "x3mArkrmcIMD",
        "colab_type": "text"
      },
      "cell_type": "markdown",
      "source": [
        "# The  Raw Dataset\n",
        "\n",
        "This table shows a description of the fields of each entry in the dataset"
      ]
    },
    {
      "metadata": {
        "id": "18brrxIxchKc",
        "colab_type": "text"
      },
      "cell_type": "markdown",
      "source": [
        ">Key | Type | Description\n",
        ">--- | ---\n",
        ">key_id \t| 64-bit unsigned integer  |\tA unique identifier across all drawings.\n",
        "> word |\tstring \t|Category the player was prompted to draw.\n",
        ">recognized |\tboolean \t|Whether the word was recognized by the game.\n",
        "> timestamp \t| datetime \t| When the drawing was created.\n",
        "> countrycode |\tstring |\tA two letter country code \n",
        "> drawing |\tstring |\tA JSON array representing the vector drawing"
      ]
    },
    {
      "metadata": {
        "id": "tY1OeVFpeIk0",
        "colab_type": "text"
      },
      "cell_type": "markdown",
      "source": [
        "# Imports"
      ]
    },
    {
      "metadata": {
        "id": "0ABX6O4kYwYS",
        "colab_type": "code",
        "colab": {}
      },
      "cell_type": "code",
      "source": [
        "import os\n",
        "import io\n",
        "import random\n",
        "import glob\n",
        "import math\n",
        "import base64\n",
        "import json\n",
        "import numpy as np\n",
        "import urllib.request\n",
        "import numpy as np\n",
        "import matplotlib.pyplot as plt\n",
        "from matplotlib import animation\n",
        "from IPython.display import HTML"
      ],
      "execution_count": 0,
      "outputs": []
    },
    {
      "metadata": {
        "id": "5NDfBHVjACAt",
        "colab_type": "text"
      },
      "cell_type": "markdown",
      "source": [
        "# Download the Dataset "
      ]
    },
    {
      "metadata": {
        "id": "7MC_PUS-fKjH",
        "colab_type": "text"
      },
      "cell_type": "markdown",
      "source": [
        "Loop over the classes and download the currospondent data. We only download 10 classes for visualization. "
      ]
    },
    {
      "metadata": {
        "id": "rdSUnpL0u22Q",
        "colab_type": "code",
        "colab": {}
      },
      "cell_type": "code",
      "source": [
        "!mkdir data\n",
        "classes = ['table', 'sun', 'laptop', 'face', 'pants', 'ladder', 'eyeglasses', 'camera', 'sword', 'cat']"
      ],
      "execution_count": 0,
      "outputs": []
    },
    {
      "metadata": {
        "id": "22DPhL5FtWcQ",
        "colab_type": "code",
        "colab": {}
      },
      "cell_type": "code",
      "source": [
        "def download():  \n",
        "  #base link  \n",
        "  base = 'https://storage.googleapis.com/quickdraw_dataset/full/'\n",
        "  \n",
        "  #download each class as json files \n",
        "  for c in classes:\n",
        "    path = f'{base}raw/{c}.ndjson'\n",
        "    print(path)\n",
        "    urllib.request.urlretrieve(path, f'data/{c}.ndjson')"
      ],
      "execution_count": 0,
      "outputs": []
    },
    {
      "metadata": {
        "id": "O5jF6TXXu-Bu",
        "colab_type": "code",
        "outputId": "82935531-e229-4e8d-a9e1-b1d3078e6a12",
        "colab": {
          "base_uri": "https://localhost:8080/",
          "height": 191
        }
      },
      "cell_type": "code",
      "source": [
        "download() "
      ],
      "execution_count": 6,
      "outputs": [
        {
          "output_type": "stream",
          "text": [
            "https://storage.googleapis.com/quickdraw_dataset/full/raw/table.ndjson\n",
            "https://storage.googleapis.com/quickdraw_dataset/full/raw/sun.ndjson\n",
            "https://storage.googleapis.com/quickdraw_dataset/full/raw/laptop.ndjson\n",
            "https://storage.googleapis.com/quickdraw_dataset/full/raw/face.ndjson\n",
            "https://storage.googleapis.com/quickdraw_dataset/full/raw/pants.ndjson\n",
            "https://storage.googleapis.com/quickdraw_dataset/full/raw/ladder.ndjson\n",
            "https://storage.googleapis.com/quickdraw_dataset/full/raw/eyeglasses.ndjson\n",
            "https://storage.googleapis.com/quickdraw_dataset/full/raw/camera.ndjson\n",
            "https://storage.googleapis.com/quickdraw_dataset/full/raw/sword.ndjson\n",
            "https://storage.googleapis.com/quickdraw_dataset/full/raw/cat.ndjson\n"
          ],
          "name": "stdout"
        }
      ]
    },
    {
      "metadata": {
        "id": "PIx1l3CGex4-",
        "colab_type": "text"
      },
      "cell_type": "markdown",
      "source": [
        "# Load to Memory \n",
        "\n",
        "Load the `drawing` information for each file. Each drawing contains a number of strokes and each stroke contain the array $[x, y, t]$ where $x,y$ are the coordinates as array and $t$ is the time stamps. "
      ]
    },
    {
      "metadata": {
        "id": "-Fwjz3DRbhzj",
        "colab_type": "code",
        "colab": {}
      },
      "cell_type": "code",
      "source": [
        "drawings = []\n",
        "\n",
        "files = os.listdir('data')\n",
        "\n",
        "i = 0 \n",
        "\n",
        "for file in files:\n",
        "  contents = open(f'data/{file}', \"r\").read() \n",
        "  data = contents.split('\\n')\n",
        "  \n",
        "  #load samples for each class \n",
        "  for h in data[:5]:\n",
        "    drawings.append(json.loads(h)['drawing'])\n",
        "  i += 1"
      ],
      "execution_count": 0,
      "outputs": []
    },
    {
      "metadata": {
        "id": "_O_7-oJOy2OD",
        "colab_type": "code",
        "colab": {}
      },
      "cell_type": "code",
      "source": [
        "#the first stroke of the first drawing\n",
        "[x, y, t] = drawings[0][0]"
      ],
      "execution_count": 0,
      "outputs": []
    },
    {
      "metadata": {
        "id": "3WNQCtLOfj9D",
        "colab_type": "text"
      },
      "cell_type": "markdown",
      "source": [
        "# Animation"
      ]
    },
    {
      "metadata": {
        "id": "u5lOmx6mdD6L",
        "colab_type": "code",
        "colab": {}
      },
      "cell_type": "code",
      "source": [
        "def create_animation(drawing, fps = 30, idx = 0, lw = 5): \n",
        "  \n",
        "  seq_length = 0 \n",
        "  \n",
        "  xmax = 0 \n",
        "  ymax = 0 \n",
        "  \n",
        "  xmin = math.inf\n",
        "  ymin = math.inf\n",
        "  \n",
        "  #retreive min,max and the length of the drawing  \n",
        "  for k in range(0, len(drawing)):\n",
        "    x = drawing[k][0]\n",
        "    y = drawing[k][1]\n",
        "\n",
        "    seq_length += len(x)\n",
        "    xmax = max([max(x), xmax]) \n",
        "    ymax = max([max(y), ymax]) \n",
        "    \n",
        "    xmin = min([min(x), xmin]) \n",
        "    ymin = min([min(y), ymin]) \n",
        "    \n",
        "  i = 0 \n",
        "  j = 0\n",
        "  \n",
        "  # First set up the figure, the axis, and the plot element we want to animate\n",
        "  fig = plt.figure()\n",
        "  ax = plt.axes(xlim=(xmax+lw, xmin-lw), ylim=(ymax+lw, ymin-lw))\n",
        "  ax.set_facecolor(\"white\")\n",
        "  line, = ax.plot([], [], lw=lw)\n",
        "\n",
        "  #remove the axis \n",
        "  ax.grid = False\n",
        "  ax.set_xticks([])\n",
        "  ax.set_yticks([])\n",
        "  \n",
        "  # initialization function: plot the background of each frame\n",
        "  def init():\n",
        "      line.set_data([], [])\n",
        "      return line, \n",
        "\n",
        "  # animation function.  This is called sequentially\n",
        "  def animate(frame):    \n",
        "    nonlocal i, j, line\n",
        "    x = drawing[i][0]\n",
        "    y = drawing[i][1]\n",
        "    line.set_data(x[0:j], y[0:j])\n",
        "    \n",
        "    if j >= len(x):\n",
        "      i +=1\n",
        "      j = 0 \n",
        "      line, = ax.plot([], [], lw=lw)\n",
        "      \n",
        "    else:\n",
        "      j += 1\n",
        "    return line,\n",
        "  \n",
        "  # call the animator.  blit=True means only re-draw the parts that have changed.\n",
        "  anim = animation.FuncAnimation(fig, animate, init_func=init,\n",
        "                                 frames= seq_length + len(drawing), blit=True)\n",
        "  plt.close()\n",
        "  \n",
        "  # save the animation as an mp4.  \n",
        "  anim.save(f'video.mp4', fps=fps, extra_args=['-vcodec', 'libx264'])"
      ],
      "execution_count": 0,
      "outputs": []
    },
    {
      "metadata": {
        "id": "sLTrgWG1-BrS",
        "colab_type": "code",
        "colab": {}
      },
      "cell_type": "code",
      "source": [
        "#create animation for a random drawing \n",
        "drawing = drawings[np.random.randint(0, len(drawings))]\n",
        "create_animation(drawing)"
      ],
      "execution_count": 0,
      "outputs": []
    },
    {
      "metadata": {
        "id": "av_gNHXIPHvu",
        "colab_type": "code",
        "outputId": "5933893e-3aa4-4418-93ed-b3bf0e678d4f",
        "colab": {
          "base_uri": "https://localhost:8080/",
          "height": 417
        }
      },
      "cell_type": "code",
      "source": [
        "video = io.open('video.mp4', 'r+b').read()\n",
        "\n",
        "encoded = base64.b64encode(video)\n",
        "HTML(data='''<video alt=\"video\" autoplay loop>\n",
        "                <source src=\"data:video/mp4;base64,{0}\" type=\"video/mp4\" />\n",
        "             </video>'''.format(encoded.decode('ascii')))"
      ],
      "execution_count": 46,
      "outputs": [
        {
          "output_type": "execute_result",
          "data": {
            "text/html": [
              "<video alt=\"video\" autoplay loop>\n",
              "                <source src=\"data:video/mp4;base64,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\" type=\"video/mp4\" />\n",
              "             </video>"
            ],
            "text/plain": [
              "<IPython.core.display.HTML object>"
            ]
          },
          "metadata": {
            "tags": []
          },
          "execution_count": 46
        }
      ]
    }
  ]
}